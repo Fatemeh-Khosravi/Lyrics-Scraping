{
 "cells": [
  {
   "cell_type": "markdown",
   "metadata": {},
   "source": [
    "# ADS 509 Module 1: APIs and Web Scraping\n",
    "\n",
    "This notebook has two parts. In the first part, you will scrape lyrics from AZLyrics.com. In the second part, you'll run code that verifies the completeness of your data pull. \n",
    "\n",
    "For this assignment you have chosen two musical artists who have at least 20 songs with lyrics on AZLyrics.com. We start with pulling some information and analyzing them.\n"
   ]
  },
  {
   "cell_type": "markdown",
   "metadata": {},
   "source": [
    "## General Assignment Instructions\n",
    "\n",
    "These instructions are included in every assignment, to remind you of the coding standards for the class. Feel free to delete this cell after reading it. \n",
    "\n",
    "One sign of mature code is conforming to a style guide. We recommend the [Google Python Style Guide](https://google.github.io/styleguide/pyguide.html). If you use a different style guide, please include a cell with a link. \n",
    "\n",
    "Your code should be relatively easy-to-read, sensibly commented, and clean. Writing code is a messy process, so please be sure to edit your final submission. Remove any cells that are not needed or parts of cells that contain unnecessary code. Remove inessential `import` statements and make sure that all such statements are moved into the designated cell. \n",
    "\n",
    "Make use of non-code cells for written commentary. These cells should be grammatical and clearly written. In some of these cells you will have questions to answer. The questions will be marked by a \"Q:\" and will have a corresponding \"A:\" spot for you. *Make sure to answer every question marked with a `Q:` for full credit.* \n"
   ]
  },
  {
   "cell_type": "markdown",
   "metadata": {},
   "source": [
    "# Importing Libraries"
   ]
  },
  {
   "cell_type": "code",
   "execution_count": 5,
   "metadata": {},
   "outputs": [],
   "source": [
    "import os\n",
    "import datetime\n",
    "import re\n",
    "\n",
    "# for the lyrics scrape section\n",
    "import requests\n",
    "import time\n",
    "from bs4 import BeautifulSoup\n",
    "from collections import defaultdict, Counter\n",
    "import random"
   ]
  },
  {
   "cell_type": "code",
   "execution_count": 6,
   "metadata": {},
   "outputs": [],
   "source": [
    "\n",
    "from bs4 import BeautifulSoup\n",
    "import shutil\n",
    "import requests\n",
    "\n"
   ]
  },
  {
   "cell_type": "markdown",
   "metadata": {},
   "source": [
    "---\n",
    "\n",
    "# Lyrics Scrape\n",
    "\n",
    "This section asks you to pull data by scraping www.AZLyrics.com. In the notebooks where you do that work you are asked to store the data in specific ways. "
   ]
  },
  {
   "cell_type": "code",
   "execution_count": 7,
   "metadata": {},
   "outputs": [],
   "source": [
    "artists = {'radical':\"https://www.azlyrics.com/r/radical.html\",\n",
    "           'mabes':\"https://www.azlyrics.com/m/mabes.html\"} \n",
    "# we'll use this dictionary to hold both the artist name and the link on AZlyrics"
   ]
  },
  {
   "cell_type": "markdown",
   "metadata": {},
   "source": [
    "## A Note on Rate Limiting\n",
    "\n",
    "The lyrics site, www.azlyrics.com, does not have an explicit maximum on number of requests in any one time, but in our testing it appears that too many requests in too short a time will cause the site to stop returning lyrics pages. (Entertainingly, the page that gets returned seems to only have the song title to [a Tom Jones song](https://www.azlyrics.com/lyrics/tomjones/itsnotunusual.html).) \n",
    "\n",
    "Whenever you call `requests.get` to retrieve a page, put a `time.sleep(5 + 10*random.random())` on the next line. This will help you not to get blocked. If you _do_ get blocked, which you can identify if the returned pages are not correct, just request a lyrics page through your browser. You'll be asked to perform a CAPTCHA and then your requests should start working again. \n",
    "\n",
    "## Part 1: Finding Links to Songs Lyrics\n",
    "\n",
    "That general artist page has a list of all songs for that artist with links to the individual song pages. \n",
    "\n",
    "Q: Take a look at the `robots.txt` page on www.azlyrics.com. (You can read more about these pages [here](https://developers.google.com/search/docs/advanced/robots/intro).) Is the scraping we are about to do allowed or disallowed by this page? How do you know? \n",
    "\n",
    "A: I have used these code snippets from the textbook, and I checked that programmatically. The output True means we are allowed to scrape this website.\n"
   ]
  },
  {
   "cell_type": "code",
   "execution_count": 8,
   "metadata": {},
   "outputs": [
    {
     "data": {
      "text/plain": [
       "True"
      ]
     },
     "execution_count": 8,
     "metadata": {},
     "output_type": "execute_result"
    }
   ],
   "source": [
    "import urllib.robotparser\n",
    "rp = urllib.robotparser.RobotFileParser() \n",
    "rp.set_url(\"https://www.azlyrics.com/robots.txt\")\n",
    "rp.read()\n",
    "rp.can_fetch(\"*\", \"https://www.azlyrics.com/\")"
   ]
  },
  {
   "cell_type": "code",
   "execution_count": 9,
   "metadata": {},
   "outputs": [],
   "source": [
    "# Let's set up a dictionary of lists to hold our links\n",
    "lyrics_pages = defaultdict(list)\n",
    "\n",
    "for artist, artist_page in artists.items() :\n",
    "    # request the page and sleep\n",
    "    r = requests.get(artist_page)\n",
    "    \n",
    "    # now extract the links to lyrics pages from this page\n",
    "    # store the links `lyrics_pages` where the key is the artist and the\n",
    "    # value is a list of links. \n",
    "            \n",
    "    soup = BeautifulSoup(r.text, 'html.parser')\n",
    "    time.sleep(5 + 10*random.random())\n",
    "    songs=soup.find_all('a',href=True)\n",
    "    for link in songs:\n",
    "        if '/lyrics/' in link.attrs['href']:\n",
    "            lyrics_pages[artist].append(link.attrs['href'])\n",
    "            \n"
   ]
  },
  {
   "cell_type": "code",
   "execution_count": 10,
   "metadata": {},
   "outputs": [
    {
     "data": {
      "text/plain": [
       "defaultdict(list,\n",
       "            {'radical': ['/lyrics/radical/bizness.html',\n",
       "              '/lyrics/radical/dieinamoshpit.html',\n",
       "              '/lyrics/radical/gxldchainnn.html',\n",
       "              '/lyrics/radical/intro.html',\n",
       "              '/lyrics/radical/piccolitalentixchoppergiganti.html',\n",
       "              '/lyrics/radical/johncena.html',\n",
       "              '/lyrics/radical/barbiexanax.html',\n",
       "              '/lyrics/radical/navicella.html',\n",
       "              '/lyrics/radical/dash.html',\n",
       "              '/lyrics/radical/3k.html',\n",
       "              '/lyrics/radical/backup.html',\n",
       "              '/lyrics/radical/minaccia.html',\n",
       "              '/lyrics/radical/thotmilanodm.html',\n",
       "              '/lyrics/radical/racks.html',\n",
       "              '/lyrics/radical/killyourego.html',\n",
       "              '/lyrics/radical/pillssorry.html',\n",
       "              '/lyrics/radical/pullup.html',\n",
       "              '/lyrics/radical/billieeilish.html',\n",
       "              '/lyrics/radical/fuckthisfuckthat.html',\n",
       "              '/lyrics/radical/wakeup.html',\n",
       "              '/lyrics/radical/rockstarlife.html',\n",
       "              '/lyrics/radical/inluv3.html',\n",
       "              '/lyrics/radical/dead.html',\n",
       "              '/lyrics/radical/blessingupthemurderrate.html',\n",
       "              '/lyrics/radical/3k.html',\n",
       "              '/lyrics/radical/backup.html',\n",
       "              '/lyrics/radical/minaccia.html',\n",
       "              '/lyrics/radical/thotmilanodm.html',\n",
       "              '/lyrics/radical/racks.html',\n",
       "              '/lyrics/radical/killyourego.html',\n",
       "              '/lyrics/radical/pillssorry.html',\n",
       "              '/lyrics/radical/pullup.html',\n",
       "              '/lyrics/radical/billieeilish.html',\n",
       "              '/lyrics/radical/empire.html',\n",
       "              '/lyrics/radical/mafiamalvagia.html',\n",
       "              '/lyrics/radical/dualipaedababy.html',\n",
       "              '/lyrics/radical/post.html',\n",
       "              '/lyrics/radical/typebeatshawty.html',\n",
       "              '/lyrics/radical/swagdripmargiela.html',\n",
       "              '/lyrics/radical/nonmibasta.html',\n",
       "              '/lyrics/radical/1v1.html',\n",
       "              '/lyrics/radical/tooeasy.html',\n",
       "              '/lyrics/radical/beautiful.html',\n",
       "              '/lyrics/radical/goodbye.html',\n",
       "              '/lyrics/radical/3018.html',\n",
       "              '/lyrics/radical/lobby.html',\n",
       "              '/lyrics/radical/minacciarmx.html',\n",
       "              '/lyrics/radical/poverogabbiano.html',\n",
       "              '/lyrics/radical/telespallabob.html',\n",
       "              '/lyrics/radical/tiktok.html'],\n",
       "             'mabes': ['/lyrics/mabes/free.html',\n",
       "              '/lyrics/mabes/gone.html',\n",
       "              '/lyrics/mabes/saint.html',\n",
       "              '/lyrics/mabes/america.html',\n",
       "              '/lyrics/mabes/biggerpicture.html',\n",
       "              '/lyrics/mabes/littlelove.html',\n",
       "              '/lyrics/mabes/waitsee.html',\n",
       "              '/lyrics/mabes/keepingthenoisedown.html',\n",
       "              '/lyrics/mabes/stuckintherain.html',\n",
       "              '/lyrics/mabes/slowdrowning.html',\n",
       "              '/lyrics/mabes/mightaswell.html',\n",
       "              '/lyrics/mabes/tooyoungtolove.html',\n",
       "              '/lyrics/mabes/danny.html',\n",
       "              '/lyrics/mabes/caughtup.html',\n",
       "              '/lyrics/mabes/catch22.html',\n",
       "              '/lyrics/mabes/aloneonchristmaseve.html',\n",
       "              '/lyrics/mabes/fairground.html',\n",
       "              '/lyrics/mabes/glowing.html',\n",
       "              '/lyrics/mabes/letitsnow.html',\n",
       "              '/lyrics/mabes/lonelynights.html',\n",
       "              '/lyrics/mabes/radio.html',\n",
       "              '/lyrics/mabes/sugarush.html']})"
      ]
     },
     "execution_count": 10,
     "metadata": {},
     "output_type": "execute_result"
    }
   ],
   "source": [
    "lyrics_pages"
   ]
  },
  {
   "cell_type": "markdown",
   "metadata": {},
   "source": [
    "Let's make sure we have enough lyrics pages to scrape. "
   ]
  },
  {
   "cell_type": "code",
   "execution_count": 11,
   "metadata": {},
   "outputs": [],
   "source": [
    "for artist, lp in lyrics_pages.items() :\n",
    "    assert(len(set(lp)) > 20) "
   ]
  },
  {
   "cell_type": "code",
   "execution_count": 12,
   "metadata": {},
   "outputs": [
    {
     "name": "stdout",
     "output_type": "stream",
     "text": [
      "For radical we have 50.\n",
      "The full pull will take for this artist will take 0.14 hours.\n",
      "For mabes we have 22.\n",
      "The full pull will take for this artist will take 0.06 hours.\n"
     ]
    }
   ],
   "source": [
    "# Let's see how long it's going to take to pull these lyrics \n",
    "# if we're waiting `5 + 10*random.random()` seconds \n",
    "for artist, links in lyrics_pages.items() : \n",
    "    print(f\"For {artist} we have {len(links)}.\")\n",
    "    print(f\"The full pull will take for this artist will take {round(len(links)*10/3600,2)} hours.\")"
   ]
  },
  {
   "cell_type": "markdown",
   "metadata": {},
   "source": [
    "## Part 2: Pulling Lyrics\n",
    "\n",
    "Now that we have the links to our lyrics pages, let's go scrape them! Here are the steps for this part. \n",
    "\n",
    "1. Create an empty folder in our repo called \"lyrics\". \n",
    "1. Iterate over the artists in `lyrics_pages`. \n",
    "1. Create a subfolder in lyrics with the artist's name. For instance, if the artist was Cher you'd have `lyrics/cher/` in your repo.\n",
    "1. Iterate over the pages. \n",
    "1. Request the page and extract the lyrics from the returned HTML file using BeautifulSoup.\n",
    "1. Use the function below, `generate_filename_from_url`, to create a filename based on the lyrics page, then write the lyrics to a text file with that name. \n"
   ]
  },
  {
   "cell_type": "code",
   "execution_count": 13,
   "metadata": {},
   "outputs": [],
   "source": [
    "def generate_filename_from_link(link) :\n",
    "    \n",
    "    if not link :\n",
    "        return None\n",
    "    \n",
    "    # drop the http or https and the html\n",
    "    name = link.replace(\"https\",\"\").replace(\"http\",\"\")\n",
    "    name = link.replace(\".html\",\"\")\n",
    "\n",
    "    name = name.replace(\"/lyrics/\",\"\")\n",
    "    \n",
    "    # Replace useless chareacters with UNDERSCORE\n",
    "    name = name.replace(\"://\",\"\").replace(\".\",\"_\").replace(\"/\",\"_\")\n",
    "    \n",
    "    # tack on .txt\n",
    "    name = name + \".txt\"\n",
    "    \n",
    "    return(name)\n"
   ]
  },
  {
   "cell_type": "code",
   "execution_count": 14,
   "metadata": {},
   "outputs": [],
   "source": [
    "# Make the lyrics folder here. If you'd like to practice your programming, add functionality \n",
    "# that checks to see if the folder exists. If it does, then use shutil.rmtree to remove it and create a new one.\n",
    "\n",
    "if os.path.isdir(\"lyrics\") : \n",
    "    shutil.rmtree(\"lyrics/\")\n",
    "\n",
    "os.mkdir(\"lyrics\")"
   ]
  },
  {
   "cell_type": "code",
   "execution_count": 15,
   "metadata": {},
   "outputs": [],
   "source": [
    "url_stub = \"https://www.azlyrics.com\" \n",
    "start = time.time()\n",
    "\n",
    "for artist in lyrics_pages :\n",
    "\n",
    "    \n",
    "    \n",
    "    # 1. Build a subfolder for the artist\n",
    "    artist_folder=os.path.join('lyrics',artist)\n",
    "    if not os.path.isdir(artist_folder):\n",
    "        os.mkdir(artist_folder)\n",
    "    \n",
    "    # 2. Iterate over the lyrics pages\n",
    "    for link  in lyrics_pages[artist]:\n",
    "        \n",
    "        \n",
    "    # 3. Request the lyrics page. \n",
    "        # Don't forget to add a line like `time.sleep(5 + 10*random.random())`\n",
    "        # to sleep after making the request\n",
    "        url = url_stub + link\n",
    "        r = requests.get(url)\n",
    "        soup = BeautifulSoup(r.text, 'html.parser')\n",
    "        time.sleep(5 + 10*random.random())\n",
    "        \n",
    "        \n",
    "    # 4. Extract the title and lyrics from the page.\n",
    "        title= soup.find_all('b')[1].text\n",
    "        lyrics= soup.find('div',{'class':'col-xs-12 col-lg-8 text-center'}).find_all('div')[5].text\n",
    "            \n",
    "    \n",
    "    # 5. Write out the title, two returns ('\\n'), and the lyrics. Use `generate_filename_from_url`\n",
    "    #    to generate the filename. \n",
    "        filename = generate_filename_from_link(link)\n",
    "        with open(os.path.join(artist_folder, filename), \"w\",encoding='utf-8') as f:\n",
    "            f.write(title + '\\n\\n')\n",
    "            f.write(lyrics)\n",
    "        \n",
    "            \n",
    "          \n",
    "            \n",
    "          \n",
    "        \n",
    "         \n",
    "    \n",
    "    # Remember to pull at least 20 songs per artist. It may be fun to pull all the songs for the artist\n",
    "    "
   ]
  },
  {
   "cell_type": "code",
   "execution_count": 16,
   "metadata": {},
   "outputs": [
    {
     "name": "stdout",
     "output_type": "stream",
     "text": [
      "Total run time was 0.37 hours.\n"
     ]
    }
   ],
   "source": [
    "print(f\"Total run time was {round((time.time() - start)/3600,2)} hours.\")"
   ]
  },
  {
   "cell_type": "markdown",
   "metadata": {},
   "source": [
    "---\n",
    "\n",
    "# Evaluation\n",
    "\n",
    "This assignment asks you to pull data by scraping www.AZLyrics.com.  After you have finished the above sections , run all the cells in this notebook. Print this to PDF and submit it, per the instructions."
   ]
  },
  {
   "cell_type": "code",
   "execution_count": 17,
   "metadata": {},
   "outputs": [],
   "source": [
    "# Simple word extractor from Peter Norvig: https://norvig.com/spell-correct.html\n",
    "def words(text): \n",
    "    return re.findall(r'\\w+', text.lower())"
   ]
  },
  {
   "cell_type": "markdown",
   "metadata": {},
   "source": [
    "## Checking Lyrics \n",
    "\n",
    "The output from your lyrics scrape should be stored in files located in this path from the directory:\n",
    "`/lyrics/[Artist Name]/[filename from URL]`. This code summarizes the information at a high level to help the instructor evaluate your work. "
   ]
  },
  {
   "cell_type": "code",
   "execution_count": 18,
   "metadata": {},
   "outputs": [
    {
     "name": "stdout",
     "output_type": "stream",
     "text": [
      "For radical we have 41 files.\n",
      "For radical we have roughly 12566 words, 2085 are unique.\n",
      "For mabes we have 22 files.\n",
      "For mabes we have roughly 5926 words, 823 are unique.\n"
     ]
    }
   ],
   "source": [
    "artist_folders = os.listdir(\"lyrics/\")\n",
    "artist_folders = [f for f in artist_folders if os.path.isdir(\"lyrics/\" + f)]\n",
    "\n",
    "for artist in artist_folders : \n",
    "    artist_files = os.listdir(\"lyrics/\" + artist)\n",
    "    artist_files = [f for f in artist_files if 'txt' in f or 'csv' in f or 'tsv' in f]\n",
    "\n",
    "    print(f\"For {artist} we have {len(artist_files)} files.\")\n",
    "\n",
    "    artist_words = []\n",
    "\n",
    "    for f_name in artist_files : \n",
    "        with open(\"lyrics/\" + artist + \"/\" + f_name) as infile : \n",
    "            artist_words.extend(words(infile.read()))\n",
    "\n",
    "            \n",
    "    print(f\"For {artist} we have roughly {len(artist_words)} words, {len(set(artist_words))} are unique.\")\n"
   ]
  },
  {
   "cell_type": "markdown",
   "metadata": {},
   "source": [
    "## References\n",
    "\n",
    "https://stackoverflow.com/questions/56421148/how-to-extract-links-from-a-page-using-beautiful-soup"
   ]
  }
 ],
 "metadata": {
  "kernelspec": {
   "display_name": "Python 3",
   "language": "python",
   "name": "python3"
  },
  "language_info": {
   "codemirror_mode": {
    "name": "ipython",
    "version": 3
   },
   "file_extension": ".py",
   "mimetype": "text/x-python",
   "name": "python",
   "nbconvert_exporter": "python",
   "pygments_lexer": "ipython3",
   "version": "3.8.5"
  }
 },
 "nbformat": 4,
 "nbformat_minor": 5
}
